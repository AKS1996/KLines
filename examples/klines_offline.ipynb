{
 "cells": [
  {
   "cell_type": "code",
   "execution_count": 1,
   "metadata": {
    "id": "Q_19qXTz_2qF"
   },
   "outputs": [],
   "source": [
    "import numpy as np\n",
    "import matplotlib.pyplot as plt\n",
    "import copy\n",
    "import math\n",
    "from matplotlib.pyplot import figure\n",
    "\n",
    "from klines import SetOfLines, SetOfPoints, CorsetForKMeansForLines, CoresetForWeightedCenters"
   ]
  },
  {
   "cell_type": "code",
   "execution_count": 17,
   "metadata": {
    "id": "HCjbLLHF_2qG"
   },
   "outputs": [],
   "source": [
    "## data\n",
    "k = 3\n",
    "d = 2\n",
    "N = int(1e3)\n",
    "m = int(N*0.07)  # coreset size ~ reduction ratio\n",
    "tau = 1e-3"
   ]
  },
  {
   "cell_type": "code",
   "execution_count": 18,
   "metadata": {
    "id": "SITuMSjs_2qG"
   },
   "outputs": [],
   "source": [
    "straight_roads = np.load('road_segments_china.npy')\n",
    "straight_roads = straight_roads[np.random.choice(straight_roads.shape[0], N, replace=False)]\n",
    "L = [[x[0][0], x[0][1], x[1][0], x[1][1]] for x in straight_roads]"
   ]
  },
  {
   "cell_type": "code",
   "execution_count": 19,
   "metadata": {
    "id": "B6NHI3Er_2qG"
   },
   "outputs": [],
   "source": [
    "## construct set of lines\n",
    "L = SetOfLines([], [], [], [], L, True)"
   ]
  },
  {
   "cell_type": "code",
   "execution_count": 20,
   "metadata": {
    "id": "1ZL6b64lEP2M"
   },
   "outputs": [],
   "source": [
    "class ParameterConfig:\n",
    "    def __init__(self):\n",
    "        pass"
   ]
  },
  {
   "cell_type": "code",
   "execution_count": 21,
   "metadata": {
    "id": "BGZ4m0Lz_2qG"
   },
   "outputs": [],
   "source": [
    "config = ParameterConfig()\n",
    "\n",
    "config.a_b_approx_minimum_number_of_lines = int(N*0.01) # constant 100, line 2, algo 2 BI-CRITERIA\n",
    "\n",
    "config.sample_size_for_a_b_approx = int(m*1.01) # |S| >= m, line 3 of algo 2\n",
    "                                                # note: there'll be a O(|S|^2) cost while computing algo 1\n",
    "    \n",
    "config.farthest_to_centers_rate_in_a_b_approx = 4.0/11  # opp of 7/11, line 6, algo 2 BI-CRITERIA\n",
    "config.number_of_remains_multiply_factor = int(math.log(N))//k # this is `b` in algo 2, other paper, set as random here -  how to calculate it?\n",
    "config.closest_to_median_rate = (1-tau)/(2*k)  # refer line 4, algo 1, other paper\n",
    "\n",
    "config.median_sample_size = int(N*0.05)    # size of q_i, line 3, algo 2, other paper\n",
    "config.max_sensitivity_multiply_factor = 50  # for outliers in coresets\n",
    "\n",
    "\n",
    "coreset = CorsetForKMeansForLines(config)"
   ]
  },
  {
   "cell_type": "markdown",
   "metadata": {
    "id": "7OSOwAUX_2qG"
   },
   "source": [
    "## statistical analysis"
   ]
  },
  {
   "cell_type": "code",
   "execution_count": 10,
   "metadata": {
    "colab": {
     "base_uri": "https://localhost:8080/"
    },
    "id": "Q3tksN30_2qG",
    "outputId": "417eec2d-1dc0-4f7e-d8f3-9b0800f4c8a7"
   },
   "outputs": [
    {
     "name": "stdout",
     "output_type": "stream",
     "text": [
      "mean: 6.881897436774193\n",
      "var: 1.077252561255611\n"
     ]
    }
   ],
   "source": [
    "### RISKY\n",
    "### FOR MEAN AND VAR EVALUATION\n",
    "### DONT RUN FOR      *** N > 1,000 ****\n",
    "\n",
    "ITER = 5\n",
    "errors = np.array([coreset.coreset(L, k, m)[2]  for _ in range(ITER)])\n",
    "\n",
    "print(f\"mean: {errors.mean()}\")\n",
    "print(f\"var: {errors.var()}\")\n",
    "\n",
    "### RISKY \n",
    "### don't run on your lap"
   ]
  },
  {
   "cell_type": "code",
   "execution_count": null,
   "metadata": {
    "id": "h4LtHRTJ_2qH"
   },
   "outputs": [],
   "source": [
    "## more tau => more variance\n",
    "## more max_sensitivity_multiply_factor => less variance\n",
    "## kept median_sample_size small, ~5% of N, coz coresets candidate set progressively reduces\n",
    "\n",
    "mean: 9.61303003972963\n",
    "var: 0.647864133123555"
   ]
  },
  {
   "cell_type": "markdown",
   "metadata": {
    "id": "DCO3DVHa_2qH"
   },
   "source": [
    "## graphical analysis"
   ]
  },
  {
   "cell_type": "code",
   "execution_count": 22,
   "metadata": {
    "colab": {
     "base_uri": "https://localhost:8080/"
    },
    "id": "Vqm0mmCz_2qH",
    "outputId": "fcf3d334-bdfa-4c34-910f-c49be07d0d41",
    "scrolled": false
   },
   "outputs": [
    {
     "name": "stdout",
     "output_type": "stream",
     "text": [
      "Unweighted coreset size: 33536\n",
      "Square distance/Cost: 5.353767616058598\n"
     ]
    }
   ],
   "source": [
    "# note size of B will be ~ O(log(n) * m^2)\n",
    "# and ofcourse its not K-center\n",
    "S, B, cost = coreset.coreset(L, k, m, True)\n",
    "\n",
    "print(f\"Unweighted coreset size: {B.get_size()}\")\n",
    "print(f\"Square distance/Cost: {cost}\")"
   ]
  },
  {
   "cell_type": "code",
   "execution_count": 23,
   "metadata": {
    "colab": {
     "base_uri": "https://localhost:8080/"
    },
    "id": "EZRZVZiJ_2qI",
    "outputId": "e19ac44e-0e58-43ff-f6b4-db42e16cb4ae"
   },
   "outputs": [
    {
     "name": "stdout",
     "output_type": "stream",
     "text": [
      "Weighted coreset size: 70\n"
     ]
    }
   ],
   "source": [
    "config.number_of_remains = int(math.log(B.get_size())) # this is also `b`, line 1, algo 2, other paper\n",
    "                                                       # value copied from `recursive_robust_median` method\n",
    "    \n",
    "cwc = CoresetForWeightedCenters(config)\n",
    "wB = cwc.coreset(B, k, m)\n",
    "\n",
    "print(f\"Weighted coreset size: {wB.get_size()}\")"
   ]
  },
  {
   "cell_type": "code",
   "execution_count": 9,
   "metadata": {
    "colab": {
     "base_uri": "https://localhost:8080/",
     "height": 708
    },
    "id": "H95TBKpx_2qI",
    "outputId": "b72eefe7-d00e-4399-b0c9-842d6532bc4f"
   },
   "outputs": [
    {
     "data": {
      "image/png": "[encoded data removed]",
      "text/plain": [
       "<Figure size 432x288 with 1 Axes>"
      ]
     },
     "metadata": {
      "needs_background": "light"
     },
     "output_type": "display_data"
    }
   ],
   "source": [
    "for r in straight_roads:\n",
    "    plt.plot([r[0][0], r[1][0]], [r[0][1], r[1][1]], 'r')\n",
    "\n",
    "for i in range(len(S.spans)):\n",
    "    v1 = S.displacements[i]\n",
    "    v12 = S.spans[i]\n",
    "    v2 = v1 - v12\n",
    "    plt.plot([v1[0], v2[0]], [v1[1], v2[1]], 'b')\n",
    "        \n",
    "max_weight = wB.weights[0]  # they are sorted decreasing weight\n",
    "WT_OUTLIER_THRESHOLD = 0.2  # weights below this threshold ignored in plot\n",
    "\n",
    "for i in range(int(len(wB.points)*(1-WT_OUTLIER_THRESHOLD))):\n",
    "    p = wB.points[i]\n",
    "    plt.plot([p[0]], [p[1]], 'go-', markersize=(wB.weights[i]/max_weight)*10)\n",
    "    \n",
    "plt.rcParams['figure.dpi'] = 200 \n",
    "plt.show()"
   ]
  },
  {
   "cell_type": "code",
   "execution_count": 51,
   "metadata": {
    "colab": {
     "base_uri": "https://localhost:8080/"
    },
    "id": "Dq72lfkP_2qJ",
    "outputId": "9a90caf9-3959-406a-c163-f1607666ada9"
   },
   "outputs": [
    {
     "name": "stderr",
     "output_type": "stream",
     "text": [
      "/usr/local/lib/python3.6/dist-packages/klines/set_of_points.py:338: FutureWarning: Using a non-tuple sequence for multidimensional indexing is deprecated; use `arr[tuple(seq)]` instead of `arr[seq]`. In the future this will be interpreted as an array index, `arr[np.array(seq)]`, which will result either in an error or a different result.\n",
      "  P_subset = self_points[distances_smaller_than_median_indices]\n",
      "/usr/local/lib/python3.6/dist-packages/klines/set_of_points.py:339: FutureWarning: Using a non-tuple sequence for multidimensional indexing is deprecated; use `arr[tuple(seq)]` instead of `arr[seq]`. In the future this will be interpreted as an array index, `arr[np.array(seq)]`, which will result either in an error or a different result.\n",
      "  w_subset = self_weights[distances_smaller_than_median_indices]\n",
      "/usr/local/lib/python3.6/dist-packages/klines/set_of_points.py:340: FutureWarning: Using a non-tuple sequence for multidimensional indexing is deprecated; use `arr[tuple(seq)]` instead of `arr[seq]`. In the future this will be interpreted as an array index, `arr[np.array(seq)]`, which will result either in an error or a different result.\n",
      "  indexes_subset = self.indexes[distances_smaller_than_median_indices]\n"
     ]
    },
    {
     "name": "stdout",
     "output_type": "stream",
     "text": [
      "Mean time taken for 2 calls is 6.13816477950013\n"
     ]
    }
   ],
   "source": [
    "### RISKY\n",
    "### FOR TIME EVALUATION\n",
    "### DONT RUN FOR      *** N > 1,000 ****\n",
    "\n",
    "import timeit\n",
    "X = []\n",
    "ITER = 2\n",
    "for i in range(ITER):\n",
    "    st = timeit.default_timer()\n",
    "    cwc.coreset(B, k, m)\n",
    "    X.append(timeit.default_timer() - st)\n",
    "    \n",
    "X = np.array(X)\n",
    "print(f\"Mean time taken for {ITER} calls is {X.mean()}s\")\n",
    "\n",
    "## RISKY\n",
    "### DONT RUN ON YOUR LAPTOP"
   ]
  },
  {
   "cell_type": "code",
   "execution_count": 1,
   "metadata": {
    "colab": {
     "base_uri": "https://localhost:8080/"
    },
    "id": "Rs4VniIiHES_",
    "outputId": "63c4c1d2-6c43-4d7a-b0a1-324771f32d12",
    "scrolled": false
   },
   "outputs": [],
   "source": [
    "# import cProfile\n",
    "# pr = cProfile.Profile()\n",
    "# pr.enable()\n",
    "\n",
    "# cwc.coreset(B, k, m)\n",
    "\n",
    "# pr.disable()\n",
    "# pr.print_stats(sort='cumtime')"
   ]
  },
  {
   "cell_type": "code",
   "execution_count": null,
   "metadata": {},
   "outputs": [],
   "source": []
  }
 ],
 "metadata": {
  "kernelspec": {
   "display_name": "Python 3",
   "language": "python",
   "name": "python3"
  },
  "language_info": {
   "codemirror_mode": {
    "name": "ipython",
    "version": 3
   },
   "file_extension": ".py",
   "mimetype": "text/x-python",
   "name": "python",
   "nbconvert_exporter": "python",
   "pygments_lexer": "ipython3",
   "version": "3.8.5"
  }
 },
 "nbformat": 4,
 "nbformat_minor": 4
}
