{
 "cells": [
  {
   "cell_type": "code",
   "execution_count": null,
   "metadata": {},
   "outputs": [],
   "source": [
    "import numpy as np"
   ]
  },
  {
   "cell_type": "code",
   "execution_count": null,
   "metadata": {},
   "outputs": [],
   "source": [
    "N = 10**3\n",
    "d = 4\n",
    "inner_rank = int(N/2)\n",
    "X = np.dot(np.random.randn(N, inner_rank), np.random.randn(inner_rank, d))\n",
    "print(\"Mean squared element: %0.4f\" % (X ** 2).mean())"
   ]
  },
  {
   "cell_type": "code",
   "execution_count": null,
   "metadata": {},
   "outputs": [],
   "source": [
    "X_incomplete = X.copy()\n",
    "# missing entries indicated with NaN\n",
    "for i in range(N):\n",
    "    X_incomplete[i, np.random.randint(d)] = np.nan"
   ]
  },
  {
   "cell_type": "markdown",
   "metadata": {},
   "source": [
    "## matrix completion using sklearn"
   ]
  },
  {
   "cell_type": "code",
   "execution_count": null,
   "metadata": {},
   "outputs": [],
   "source": [
    "from sklearn.impute import SimpleImputer, KNNImputer\n",
    "# imp = SimpleImputer(missing_values=np.nan, strategy=Z'mean')\n",
    "imp = KNNImputer(n_neighbors=2, weights=\"uniform\")"
   ]
  },
  {
   "cell_type": "code",
   "execution_count": null,
   "metadata": {},
   "outputs": [],
   "source": [
    "((X - imp.fit_transform(X_incomplete))**2).mean()"
   ]
  },
  {
   "cell_type": "code",
   "execution_count": null,
   "metadata": {},
   "outputs": [],
   "source": [
    "# idea is to construct lines, find k-centers, find pts closest to \n",
    "# those k center for each line, find difference from original X"
   ]
  },
  {
   "cell_type": "markdown",
   "metadata": {},
   "source": [
    "## setup coreset streamer"
   ]
  },
  {
   "cell_type": "code",
   "execution_count": null,
   "metadata": {},
   "outputs": [],
   "source": [
    "import sys\n",
    "sys.path.insert(1, \"./KLines\")\n",
    "\n",
    "import numpy as np\n",
    "import copy\n",
    "import math\n",
    "import matplotlib.pyplot as plt\n",
    "from matplotlib.pyplot import figure\n",
    "\n",
    "from klines import SetOfLines, SetOfPoints, CorsetForKMeansForLines, CoresetStreamer\n",
    "\n",
    "assert(np.version.full_version == '1.16.5')  # later revisions hv slower array lookups\n",
    "\n",
    "\n",
    "displacements = np.nan_to_num(X_incomplete)\n",
    "\n",
    "spans = np.nan_to_num(X_incomplete)\n",
    "spans[spans==0] = 1\n",
    "spans[spans!=1] = 0\n",
    "\n",
    "L = SetOfLines(spans, displacements, np.ones(N), np.ones(N))\n",
    "\n",
    "class ParameterConfig:\n",
    "    def __init__(self):\n",
    "        pass\n",
    "    \n",
    "config = ParameterConfig()"
   ]
  },
  {
   "cell_type": "code",
   "execution_count": null,
   "metadata": {},
   "outputs": [],
   "source": [
    "## data\n",
    "k = d//2\n",
    "m = int(N*0.01)  # coreset size ~ reduction ratio\n",
    "tau = 1e-3\n",
    "\n",
    "config.a_b_approx_minimum_number_of_lines = 100 # constant 100, line 2, algo 2 BI-CRITERIA\n",
    "\n",
    "config.sample_size_for_a_b_approx = int(m*1.01) # |S| >= m, line 3 of algo 2\n",
    "                                                # note: there'll be a O(|S|^2) cost while computing algo 1\n",
    "    \n",
    "config.farthest_to_centers_rate_in_a_b_approx = 4/11  # opp of 7/11, line 6, algo 2 BI-CRITERIA\n",
    "config.number_of_remains_multiply_factor = int(math.log(N))//k # this is `b` in algo 2, other paper, set as random here -  how to calculate it?\n",
    "config.closest_to_median_rate = (1-tau)/(2*k)  # refer line 4, algo 1, other paper\n",
    "\n",
    "config.median_sample_size = int(N*0.05)    # size of q_i, line 3, algo 2, other paper\n",
    "config.max_sensitivity_multiply_factor = 100  # for outliers in coresets\n",
    "\n",
    "config.number_of_remains = 50\n",
    "\n",
    "SAMPLE_SIZE = 100   # coreset size grws linear w/ SAMPLE_SIZE"
   ]
  },
  {
   "cell_type": "code",
   "execution_count": null,
   "metadata": {},
   "outputs": [],
   "source": [
    "ITER = 4\n",
    "vals = []\n",
    "\n",
    "for _ in range(ITER):\n",
    "    # define the streamer\n",
    "    streamer = CoresetStreamer(SAMPLE_SIZE, k, config)\n",
    "    coreset = streamer.stream(L)\n",
    "    L1 = coreset[0]\n",
    "\n",
    "    _, B, _ = CorsetForKMeansForLines(config).coreset(L1, k, int(L1.get_size()*0.25), True)\n",
    "\n",
    "    vals.append(((X - L.get_projected_centers(B))**2).mean())\n",
    "\n",
    "print(f\"mean: {np.array(vals).mean()} var: {np.array(vals).var()}\")"
   ]
  },
  {
   "cell_type": "code",
   "execution_count": null,
   "metadata": {},
   "outputs": [],
   "source": []
  }
 ],
 "metadata": {
  "kernelspec": {
   "display_name": "Python 3",
   "language": "python",
   "name": "python3"
  },
  "language_info": {
   "codemirror_mode": {
    "name": "ipython",
    "version": 3
   },
   "file_extension": ".py",
   "mimetype": "text/x-python",
   "name": "python",
   "nbconvert_exporter": "python",
   "pygments_lexer": "ipython3",
   "version": "3.8.5"
  }
 },
 "nbformat": 4,
 "nbformat_minor": 4
}
