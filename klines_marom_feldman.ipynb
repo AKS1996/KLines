{
 "cells": [
  {
   "cell_type": "markdown",
   "metadata": {},
   "source": [
    "# KLines\n",
    "To run this notebook:\n",
    "- Clone https://github.com/YairMarom/k_lines_means\n",
    "- Install all the dependencies\n",
    "- Place this notebook in the same folder as `coreset_for_k_means_for_lines.py` file"
   ]
  },
  {
   "cell_type": "code",
   "execution_count": 2,
   "metadata": {},
   "outputs": [],
   "source": [
    "import numpy as np\n",
    "import matplotlib.pyplot as plt\n",
    "import copy\n",
    "import math\n",
    "from matplotlib.pyplot import figure\n",
    "\n",
    "from set_of_lines import SetOfLines\n",
    "from set_of_points import SetOfPoints\n",
    "from parameters_config import ParameterConfig\n",
    "from coreset_for_k_means_for_lines import CorsetForKMeansForLines\n",
    "from coreset_for_weighted_centers import CoresetForWeightedCenters"
   ]
  },
  {
   "cell_type": "code",
   "execution_count": 3,
   "metadata": {},
   "outputs": [],
   "source": [
    "## data\n",
    "k = 3\n",
    "d = 2\n",
    "N = 500\n",
    "m = int(N*0.07)  # coreset size ~ reduction ratio\n",
    "tau = 1e-3"
   ]
  },
  {
   "cell_type": "code",
   "execution_count": 4,
   "metadata": {},
   "outputs": [],
   "source": [
    "straight_roads = np.load('road_segments_china.npy')\n",
    "straight_roads = straight_roads[np.random.choice(straight_roads.shape[0], N, replace=False)]\n",
    "L = [[x[0][0], x[0][1], x[1][0], x[1][1]] for x in straight_roads]"
   ]
  },
  {
   "cell_type": "code",
   "execution_count": 5,
   "metadata": {},
   "outputs": [],
   "source": [
    "## construct set of lines\n",
    "L = SetOfLines([], [], [], [], L, True)"
   ]
  },
  {
   "cell_type": "code",
   "execution_count": 6,
   "metadata": {},
   "outputs": [],
   "source": [
    "config = ParameterConfig()\n",
    "\n",
    "config.a_b_approx_minimum_number_of_lines = int(N*0.01) # constant 100, line 2, algo 2 BI-CRITERIA\n",
    "\n",
    "config.sample_size_for_a_b_approx = int(m*1.01) # |S| >= m, line 3 of algo 2\n",
    "                                                # note: there'll be a O(|S|^2) cost while computing algo 1\n",
    "    \n",
    "config.farthest_to_centers_rate_in_a_b_approx = 4.0/11  # opp of 7/11, line 6, algo 2 BI-CRITERIA\n",
    "config.number_of_remains_multiply_factor = int(math.log(N))//k # this is `b` in algo 2, other paper, set as random here -  how to calculate it?\n",
    "config.closest_to_median_rate = (1-tau)/(2*k)  # refer line 4, algo 1, other paper\n",
    "\n",
    "config.median_sample_size = int(N*0.05)    # size of q_i, line 3, algo 2, other paper\n",
    "config.max_sensitivity_multiply_factor = 50  # for outliers in coresets\n",
    "\n",
    "\n",
    "coreset = CorsetForKMeansForLines(config)"
   ]
  },
  {
   "cell_type": "markdown",
   "metadata": {},
   "source": [
    "## statistical analysis"
   ]
  },
  {
   "cell_type": "code",
   "execution_count": 158,
   "metadata": {},
   "outputs": [
    {
     "name": "stdout",
     "output_type": "stream",
     "text": [
      "mean: 9.138222193806888\n",
      "var: 1.124864449688078\n"
     ]
    }
   ],
   "source": [
    "### RISKY\n",
    "### FOR MEAN AND VAR EVALUATION\n",
    "### DONT RUN FOR      *** N > 1,000 ****\n",
    "\n",
    "ITER = 40\n",
    "errors = np.array([coreset.coreset(L, k, m)[2]  for _ in range(ITER)])\n",
    "\n",
    "print(f\"mean: {errors.mean()}\")\n",
    "print(f\"var: {errors.var()}\")\n",
    "\n",
    "### RISKY \n",
    "### don't run on your lap"
   ]
  },
  {
   "cell_type": "code",
   "execution_count": 135,
   "metadata": {},
   "outputs": [],
   "source": [
    "## more tau => more variance\n",
    "## more max_sensitivity_multiply_factor => less variance\n",
    "## kept median_sample_size small, ~5% of N, coz coresets candidate set progressively reduces\n",
    "\n",
    "mean: 9.61303003972963\n",
    "var: 0.647864133123555"
   ]
  },
  {
   "cell_type": "markdown",
   "metadata": {},
   "source": [
    "## graphical analysis"
   ]
  },
  {
   "cell_type": "code",
   "execution_count": 7,
   "metadata": {
    "scrolled": false
   },
   "outputs": [
    {
     "name": "stderr",
     "output_type": "stream",
     "text": [
      "C:\\Users\\Pika\\Projects\\k_lines_means\\set_of_points.py:338: FutureWarning: Using a non-tuple sequence for multidimensional indexing is deprecated; use `arr[tuple(seq)]` instead of `arr[seq]`. In the future this will be interpreted as an array index, `arr[np.array(seq)]`, which will result either in an error or a different result.\n",
      "  P_subset = self_points[distances_smaller_than_median_indices]\n",
      "C:\\Users\\Pika\\Projects\\k_lines_means\\set_of_points.py:339: FutureWarning: Using a non-tuple sequence for multidimensional indexing is deprecated; use `arr[tuple(seq)]` instead of `arr[seq]`. In the future this will be interpreted as an array index, `arr[np.array(seq)]`, which will result either in an error or a different result.\n",
      "  w_subset = self_weights[distances_smaller_than_median_indices]\n",
      "C:\\Users\\Pika\\Projects\\k_lines_means\\set_of_points.py:340: FutureWarning: Using a non-tuple sequence for multidimensional indexing is deprecated; use `arr[tuple(seq)]` instead of `arr[seq]`. In the future this will be interpreted as an array index, `arr[np.array(seq)]`, which will result either in an error or a different result.\n",
      "  indexes_subset = self.indexes[distances_smaller_than_median_indices]\n"
     ]
    },
    {
     "name": "stdout",
     "output_type": "stream",
     "text": [
      "Unweighted coreset size: 8330\n",
      "Square distance/Cost: 14.67076660886201\n"
     ]
    }
   ],
   "source": [
    "# note size of B will be ~ O(log(n) * m^2)\n",
    "# and ofcourse its not K-center\n",
    "S, B, cost = coreset.coreset(L, k, m)\n",
    "\n",
    "print(f\"Unweighted coreset size: {B.get_size()}\")\n",
    "print(f\"Square distance/Cost: {cost}\")"
   ]
  },
  {
   "cell_type": "code",
   "execution_count": 8,
   "metadata": {},
   "outputs": [
    {
     "name": "stdout",
     "output_type": "stream",
     "text": [
      "Weighted coreset size: 32\n"
     ]
    }
   ],
   "source": [
    "config.number_of_remains = int(math.log(B.get_size())) # this is also `b`, line 1, algo 2, other paper\n",
    "                                                       # value copied from `recursive_robust_median` method\n",
    "    \n",
    "cwc = CoresetForWeightedCenters(config)\n",
    "wB = cwc.coreset(B, k, m)\n",
    "\n",
    "print(f\"Weighted coreset size: {wB.get_size()}\")"
   ]
  },
  {
   "cell_type": "code",
   "execution_count": 9,
   "metadata": {},
   "outputs": [
    {
     "data": {
      "image/png": "[encoded data removed]",
      "text/plain": [
       "<Figure size 432x288 with 1 Axes>"
      ]
     },
     "metadata": {
      "needs_background": "light"
     },
     "output_type": "display_data"
    }
   ],
   "source": [
    "for r in straight_roads:\n",
    "    plt.plot([r[0][0], r[1][0]], [r[0][1], r[1][1]], 'r')\n",
    "\n",
    "for i in range(len(S.spans)):\n",
    "    v1 = S.displacements[i]\n",
    "    v12 = S.spans[i]\n",
    "    v2 = v1 - v12\n",
    "    plt.plot([v1[0], v2[0]], [v1[1], v2[1]], 'b')\n",
    "        \n",
    "max_weight = wB.weights[0]  # they are sorted decreasing weight\n",
    "WT_OUTLIER_THRESHOLD = 0.1  # weights below this threshold ignored in plot\n",
    "\n",
    "for i in range(int(len(wB.points)*(1-WT_OUTLIER_THRESHOLD))):\n",
    "    p = wB.points[i]\n",
    "    plt.plot([p[0]], [p[1]], 'go-', markersize=(wB.weights[i]/max_weight)*10)\n",
    "    \n",
    "plt.rcParams['figure.dpi'] = 200 \n",
    "plt.show()"
   ]
  },
  {
   "cell_type": "code",
   "execution_count": 12,
   "metadata": {},
   "outputs": [
    {
     "ename": "SyntaxError",
     "evalue": "invalid syntax (<ipython-input-12-d2314674d553>, line 1)",
     "output_type": "error",
     "traceback": [
      "\u001b[1;36m  File \u001b[1;32m\"<ipython-input-12-d2314674d553>\"\u001b[1;36m, line \u001b[1;32m1\u001b[0m\n\u001b[1;33m    @timeit L.get_all_intersection_points()\u001b[0m\n\u001b[1;37m            ^\u001b[0m\n\u001b[1;31mSyntaxError\u001b[0m\u001b[1;31m:\u001b[0m invalid syntax\n"
     ]
    }
   ],
   "source": [
    "@timeit L.get_all_intersection_points()"
   ]
  },
  {
   "cell_type": "code",
   "execution_count": 13,
   "metadata": {},
   "outputs": [],
   "source": [
    "import timeit"
   ]
  },
  {
   "cell_type": "code",
   "execution_count": 20,
   "metadata": {},
   "outputs": [
    {
     "name": "stderr",
     "output_type": "stream",
     "text": [
      "C:\\Users\\Pika\\Projects\\k_lines_means\\set_of_lines.py:191: RuntimeWarning: invalid value encountered in true_divide\n",
      "  s_c = be_minus_cd / ac_minus_b_squared\n"
     ]
    },
    {
     "name": "stdout",
     "output_type": "stream",
     "text": [
      "0.148882679999997\n"
     ]
    }
   ],
   "source": [
    "X = []\n",
    "for i in range(10):\n",
    "    st = timeit.default_timer()\n",
    "    L.get_all_intersection_points()\n",
    "    X.append(timeit.default_timer() - st)\n",
    "    \n",
    "X = np.array(X)\n",
    "print(X.mean())"
   ]
  },
  {
   "cell_type": "code",
   "execution_count": null,
   "metadata": {},
   "outputs": [],
   "source": []
  }
 ],
 "metadata": {
  "kernelspec": {
   "display_name": "Python 3",
   "language": "python",
   "name": "python3"
  },
  "language_info": {
   "codemirror_mode": {
    "name": "ipython",
    "version": 3
   },
   "file_extension": ".py",
   "mimetype": "text/x-python",
   "name": "python",
   "nbconvert_exporter": "python",
   "pygments_lexer": "ipython3",
   "version": "3.8.3"
  }
 },
 "nbformat": 4,
 "nbformat_minor": 4
}